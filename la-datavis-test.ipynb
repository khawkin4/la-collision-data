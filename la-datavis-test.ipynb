{
 "cells": [
  {
   "cell_type": "code",
   "execution_count": 35,
   "metadata": {},
   "outputs": [
    {
     "name": "stdout",
     "output_type": "stream",
     "text": [
      "['socrata_metadata.json', 'traffic-collision-data-from-2010-to-present.csv']\n"
     ]
    }
   ],
   "source": [
    "import numpy as np\n",
    "import pandas as pd\n",
    "import matplotlib.pyplot as plt\n",
    "%matplotlib inline\n",
    "\n",
    "import seaborn as sns\n",
    "\n",
    "import os \n",
    "print(os.listdir(\"./los-angeles-traffic-collision-data\"))\n",
    "\n",
    "from pylab import rcParams\n",
    "rcParams['figure.figsize'] = 15, 5"
   ]
  },
  {
   "cell_type": "code",
   "execution_count": 36,
   "metadata": {},
   "outputs": [
    {
     "name": "stdout",
     "output_type": "stream",
     "text": [
      "   DR Number            Date Reported            Date Occurred  Time Occurred  \\\n",
      "0  191010770  2019-06-08T00:00:00.000  2019-06-08T00:00:00.000           1216   \n",
      "1  190711820  2019-06-08T00:00:00.000  2019-06-08T00:00:00.000           1445   \n",
      "2  192011837  2019-06-08T00:00:00.000  2019-06-08T00:00:00.000           1245   \n",
      "3  190613201  2019-06-08T00:00:00.000  2019-06-08T00:00:00.000           1120   \n",
      "4  191610033  2019-06-08T00:00:00.000  2019-06-08T00:00:00.000           1015   \n",
      "5  190410808  2019-06-08T00:00:00.000  2019-06-08T00:00:00.000            630   \n",
      "6  191312833  2019-06-08T00:00:00.000  2019-06-08T00:00:00.000              1   \n",
      "7  190711819  2019-06-08T00:00:00.000  2019-06-08T00:00:00.000           1300   \n",
      "8  191610034  2019-06-08T00:00:00.000  2019-06-08T00:00:00.000           1155   \n",
      "9  191911558  2019-06-08T00:00:00.000  2019-06-08T00:00:00.000             30   \n",
      "\n",
      "   Area ID    Area Name  Reporting District  Crime Code  \\\n",
      "0       10  West Valley                1009         997   \n",
      "1        7     Wilshire                 762         997   \n",
      "2       20      Olympic                2029         997   \n",
      "3        6    Hollywood                 645         997   \n",
      "4       16     Foothill                1653         997   \n",
      "5        4   Hollenbeck                 455         997   \n",
      "6       13       Newton                1325         997   \n",
      "7        7     Wilshire                 785         997   \n",
      "8       16     Foothill                1656         997   \n",
      "9       19      Mission                1925         997   \n",
      "\n",
      "  Crime Code Description MO Codes  ...  Premise Description  \\\n",
      "0      TRAFFIC COLLISION      NaN  ...               STREET   \n",
      "1      TRAFFIC COLLISION      NaN  ...               STREET   \n",
      "2      TRAFFIC COLLISION      NaN  ...               STREET   \n",
      "3      TRAFFIC COLLISION      NaN  ...               STREET   \n",
      "4      TRAFFIC COLLISION      NaN  ...               STREET   \n",
      "5      TRAFFIC COLLISION      NaN  ...               STREET   \n",
      "6      TRAFFIC COLLISION      NaN  ...               STREET   \n",
      "7      TRAFFIC COLLISION      NaN  ...               STREET   \n",
      "8      TRAFFIC COLLISION      NaN  ...               STREET   \n",
      "9      TRAFFIC COLLISION      NaN  ...               STREET   \n",
      "\n",
      "                           Address                     Cross Street  \\\n",
      "0                           ROSCOE                          HASKELL   \n",
      "1  ALFRED                       ST  PICO                         BL   \n",
      "2                         WILSHIRE                          VERMONT   \n",
      "3  HOLLYWOOD                    BL  ORANGE                       DR   \n",
      "4  ARLETA                       AV  BRANFORD                     ST   \n",
      "5  STATE                        ST                         E  10FWY   \n",
      "6  CENTRAL                      AV  28TH                         ST   \n",
      "7  WEST                         BL  18TH                         ST   \n",
      "8  ELDORA                       AV  APPERSON                     ST   \n",
      "9  BRADLEY                      AV  ASTORIA                      ST   \n",
      "\n",
      "                                            Location Zip Codes Census Tracts  \\\n",
      "0  {'human_address': '{\"address\": \"\", \"city\": \"\",...   18914.0         121.0   \n",
      "1  {'human_address': '{\"address\": \"\", \"city\": \"\",...   23666.0         641.0   \n",
      "2  {'human_address': '{\"address\": \"\", \"city\": \"\",...   22726.0         578.0   \n",
      "3  {'human_address': '{\"address\": \"\", \"city\": \"\",...   23446.0         414.0   \n",
      "4  {'human_address': '{\"address\": \"\", \"city\": \"\",...   18907.0          34.0   \n",
      "5  {'human_address': '{\"address\": \"\", \"city\": \"\",...   23450.0         512.0   \n",
      "6  {'human_address': '{\"address\": \"\", \"city\": \"\",...   22727.0         708.0   \n",
      "7  {'human_address': '{\"address\": \"\", \"city\": \"\",...   23077.0         655.0   \n",
      "8  {'human_address': '{\"address\": \"\", \"city\": \"\",...    3221.0          15.0   \n",
      "9  {'human_address': '{\"address\": \"\", \"city\": \"\",...   18912.0          60.0   \n",
      "\n",
      "  Precinct Boundaries LA Specific Plans  Council Districts  \\\n",
      "0               426.0               NaN                2.0   \n",
      "1              1102.0               NaN               12.0   \n",
      "2               684.0               NaN               12.0   \n",
      "3              1303.0               NaN                8.0   \n",
      "4               451.0               NaN                1.0   \n",
      "5               509.0               NaN                9.0   \n",
      "6               971.0               7.0               13.0   \n",
      "7              1111.0               NaN               12.0   \n",
      "8              1511.0               NaN                1.0   \n",
      "9               363.0               NaN                1.0   \n",
      "\n",
      "   Neighborhood Councils (Certified)  \n",
      "0                               88.0  \n",
      "1                               23.0  \n",
      "2                               89.0  \n",
      "3                               82.0  \n",
      "4                               11.0  \n",
      "5                               38.0  \n",
      "6                                6.0  \n",
      "7                               69.0  \n",
      "8                                7.0  \n",
      "9                               47.0  \n",
      "\n",
      "[10 rows x 24 columns]\n"
     ]
    }
   ],
   "source": [
    "#read in data\n",
    "collision_data = pd.read_csv(\"./los-angeles-traffic-collision-data/traffic-collision-data-from-2010-to-present.csv\")\n",
    "df = pd.DataFrame(collision_data)\n",
    "print(df.head(10))"
   ]
  },
  {
   "cell_type": "code",
   "execution_count": 37,
   "metadata": {},
   "outputs": [
    {
     "name": "stdout",
     "output_type": "stream",
     "text": [
      "             Date Reported            Date Occurred  Time Occurred  \\\n",
      "0  2019-06-08T00:00:00.000  2019-06-08T00:00:00.000           1216   \n",
      "1  2019-06-08T00:00:00.000  2019-06-08T00:00:00.000           1445   \n",
      "2  2019-06-08T00:00:00.000  2019-06-08T00:00:00.000           1245   \n",
      "3  2019-06-08T00:00:00.000  2019-06-08T00:00:00.000           1120   \n",
      "4  2019-06-08T00:00:00.000  2019-06-08T00:00:00.000           1015   \n",
      "5  2019-06-08T00:00:00.000  2019-06-08T00:00:00.000            630   \n",
      "6  2019-06-08T00:00:00.000  2019-06-08T00:00:00.000              1   \n",
      "7  2019-06-08T00:00:00.000  2019-06-08T00:00:00.000           1300   \n",
      "8  2019-06-08T00:00:00.000  2019-06-08T00:00:00.000           1155   \n",
      "9  2019-06-08T00:00:00.000  2019-06-08T00:00:00.000             30   \n",
      "\n",
      "     Area Name Crime Code Description  Victim Age Victim Sex Victim Descent  \\\n",
      "0  West Valley      TRAFFIC COLLISION         NaN          M              O   \n",
      "1     Wilshire      TRAFFIC COLLISION        51.0          M              W   \n",
      "2      Olympic      TRAFFIC COLLISION        58.0          M              B   \n",
      "3    Hollywood      TRAFFIC COLLISION        25.0          F              O   \n",
      "4     Foothill      TRAFFIC COLLISION        31.0          M              H   \n",
      "5   Hollenbeck      TRAFFIC COLLISION        24.0          F              W   \n",
      "6       Newton      TRAFFIC COLLISION        27.0          F              H   \n",
      "7     Wilshire      TRAFFIC COLLISION        28.0          F              B   \n",
      "8     Foothill      TRAFFIC COLLISION        26.0          M              O   \n",
      "9      Mission      TRAFFIC COLLISION        50.0          F              H   \n",
      "\n",
      "                           Address                     Cross Street  \\\n",
      "0                           ROSCOE                          HASKELL   \n",
      "1  ALFRED                       ST  PICO                         BL   \n",
      "2                         WILSHIRE                          VERMONT   \n",
      "3  HOLLYWOOD                    BL  ORANGE                       DR   \n",
      "4  ARLETA                       AV  BRANFORD                     ST   \n",
      "5  STATE                        ST                         E  10FWY   \n",
      "6  CENTRAL                      AV  28TH                         ST   \n",
      "7  WEST                         BL  18TH                         ST   \n",
      "8  ELDORA                       AV  APPERSON                     ST   \n",
      "9  BRADLEY                      AV  ASTORIA                      ST   \n",
      "\n",
      "                                            Location  Zip Codes  \\\n",
      "0  {'human_address': '{\"address\": \"\", \"city\": \"\",...    18914.0   \n",
      "1  {'human_address': '{\"address\": \"\", \"city\": \"\",...    23666.0   \n",
      "2  {'human_address': '{\"address\": \"\", \"city\": \"\",...    22726.0   \n",
      "3  {'human_address': '{\"address\": \"\", \"city\": \"\",...    23446.0   \n",
      "4  {'human_address': '{\"address\": \"\", \"city\": \"\",...    18907.0   \n",
      "5  {'human_address': '{\"address\": \"\", \"city\": \"\",...    23450.0   \n",
      "6  {'human_address': '{\"address\": \"\", \"city\": \"\",...    22727.0   \n",
      "7  {'human_address': '{\"address\": \"\", \"city\": \"\",...    23077.0   \n",
      "8  {'human_address': '{\"address\": \"\", \"city\": \"\",...     3221.0   \n",
      "9  {'human_address': '{\"address\": \"\", \"city\": \"\",...    18912.0   \n",
      "\n",
      "   Census Tracts  Precinct Boundaries  LA Specific Plans  Council Districts  \\\n",
      "0          121.0                426.0                NaN                2.0   \n",
      "1          641.0               1102.0                NaN               12.0   \n",
      "2          578.0                684.0                NaN               12.0   \n",
      "3          414.0               1303.0                NaN                8.0   \n",
      "4           34.0                451.0                NaN                1.0   \n",
      "5          512.0                509.0                NaN                9.0   \n",
      "6          708.0                971.0                7.0               13.0   \n",
      "7          655.0               1111.0                NaN               12.0   \n",
      "8           15.0               1511.0                NaN                1.0   \n",
      "9           60.0                363.0                NaN                1.0   \n",
      "\n",
      "   Neighborhood Councils (Certified)  \n",
      "0                               88.0  \n",
      "1                               23.0  \n",
      "2                               89.0  \n",
      "3                               82.0  \n",
      "4                               11.0  \n",
      "5                               38.0  \n",
      "6                                6.0  \n",
      "7                               69.0  \n",
      "8                                7.0  \n",
      "9                               47.0  \n"
     ]
    }
   ],
   "source": [
    "#data cleaning \n",
    "df = df.drop(['DR Number','Area ID','Reporting District','Crime Code','MO Codes','Premise Code', 'Premise Description'], axis=1)\n",
    "print(df.head(10))\n",
    "\n",
    "df['year'] = pd.DatetimeIndex(df['Date Occurred']).year\n",
    "df['month'] = pd.DatetimeIndex(df['Date Occurred']).month\n",
    "df['day'] = pd.DatetimeIndex(df['Date Occurred']).day\n",
    "df['time']=df['year']+(1/12)*df['month']+(1/360)*df['day']"
   ]
  },
  {
   "cell_type": "code",
   "execution_count": 38,
   "metadata": {},
   "outputs": [
    {
     "data": {
      "image/png": "[encoded data removed]",
      "text/plain": [
       "<Figure size 1080x360 with 1 Axes>"
      ]
     },
     "metadata": {
      "needs_background": "light"
     },
     "output_type": "display_data"
    }
   ],
   "source": [
    "x = df.time\n",
    "ax = sns.distplot(x, hist=True, kde=False, rug=False, color='c', bins=10,  hist_kws={'edgecolor':'black'})\n",
    "plt.show()"
   ]
  }
 ],
 "metadata": {
  "kernelspec": {
   "display_name": "Python 3",
   "language": "python",
   "name": "python3"
  },
  "language_info": {
   "codemirror_mode": {
    "name": "ipython",
    "version": 3
   },
   "file_extension": ".py",
   "mimetype": "text/x-python",
   "name": "python",
   "nbconvert_exporter": "python",
   "pygments_lexer": "ipython3",
   "version": "3.7.0"
  }
 },
 "nbformat": 4,
 "nbformat_minor": 2
}
